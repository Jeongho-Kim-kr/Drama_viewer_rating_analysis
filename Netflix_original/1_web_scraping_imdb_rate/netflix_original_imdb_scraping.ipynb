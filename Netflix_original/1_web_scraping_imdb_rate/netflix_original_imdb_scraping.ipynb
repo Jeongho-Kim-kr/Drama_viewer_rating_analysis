{
 "cells": [
  {
   "cell_type": "code",
   "execution_count": 147,
   "metadata": {},
   "outputs": [],
   "source": [
    "from urllib.request import urlopen\n",
    "from bs4 import BeautifulSoup\n",
    "import urllib\n",
    "from urllib import parse\n",
    "import pandas as pd\n",
    "import time\n",
    "import openpyxl\n",
    "import requests"
   ]
  },
  {
   "cell_type": "code",
   "execution_count": 148,
   "metadata": {},
   "outputs": [],
   "source": [
    "from selenium.common.exceptions import NoSuchElementException\n",
    "from selenium import webdriver \n",
    "from selenium.webdriver.common.keys import Keys\n",
    "import random, time"
   ]
  },
  {
   "cell_type": "code",
   "execution_count": 149,
   "metadata": {},
   "outputs": [],
   "source": [
    "from IPython.display import display\n",
    "import numpy as np\n",
    "import pandas as pd"
   ]
  },
  {
   "cell_type": "code",
   "execution_count": 150,
   "metadata": {},
   "outputs": [],
   "source": [
    "def get_rating(classname):\n",
    "    product_reviews = []\n",
    "    reviews = driver.find_elements_by_class_name(classname)[::]\n",
    "    for element in reviews:\n",
    "        product_reviews.append(element.text)\n",
    "    try:\n",
    "        result = product_reviews[0].split('/')[0]\n",
    "    except IndexError:\n",
    "        result = \"indexError\"\n",
    "    return result"
   ]
  },
  {
   "cell_type": "code",
   "execution_count": 151,
   "metadata": {},
   "outputs": [],
   "source": [
    "def get_voters(classname):\n",
    "    product_reviews = []\n",
    "    reviews = driver.find_elements_by_class_name(classname)[::]\n",
    "    for element in reviews:\n",
    "        product_reviews.append(element.text)\n",
    "    try:\n",
    "        result = product_reviews[1]\n",
    "    except IndexError:\n",
    "        result = \"indexError\"            \n",
    "    return result"
   ]
  },
  {
   "cell_type": "code",
   "execution_count": 152,
   "metadata": {},
   "outputs": [],
   "source": [
    "def get_creator(classname):\n",
    "    product_reviews = []\n",
    "    reviews = driver.find_elements_by_class_name(classname)[::]\n",
    "    for element in reviews:\n",
    "        product_reviews.append(element.text)\n",
    "    try:\n",
    "        result = product_reviews[0][9:]\n",
    "    except IndexError:\n",
    "        result = \"indexError\"\n",
    "    return result"
   ]
  },
  {
   "cell_type": "code",
   "execution_count": 153,
   "metadata": {},
   "outputs": [],
   "source": [
    "def get_stars(classname):\n",
    "    product_reviews = []\n",
    "    reviews = driver.find_elements_by_class_name(classname)[::]\n",
    "    for element in reviews:\n",
    "        product_reviews.append(element.text)\n",
    "    try:\n",
    "        result = product_reviews[len(product_reviews)-1][7:].split('|')[0]\n",
    "    except IndexError:\n",
    "        result = \"indexError\" \n",
    "    return result"
   ]
  },
  {
   "cell_type": "code",
   "execution_count": 154,
   "metadata": {},
   "outputs": [],
   "source": [
    "def NextPage():\n",
    "    try:\n",
    "        driver.find_element_by_xpath('//*[@id=\"main\"]/div/div[2]/table/tbody/tr[1]/td[2]/a').click()\n",
    "    except NoSuchElementException:\n",
    "        pass"
   ]
  },
  {
   "cell_type": "code",
   "execution_count": 155,
   "metadata": {},
   "outputs": [
    {
     "output_type": "stream",
     "name": "stdout",
     "text": [
      "['House of Cards', 'Hemlock Grove', 'Orange Is the New Black', 'Marco Polo', 'Bloodline']\n"
     ]
    }
   ],
   "source": [
    "import pandas as pd\n",
    "\n",
    "data = pd.read_csv('netflix_originals_가공.csv')\n",
    "title = data.Title.values.tolist()\n",
    "print(title[:5])"
   ]
  },
  {
   "cell_type": "code",
   "execution_count": 156,
   "metadata": {},
   "outputs": [
    {
     "output_type": "execute_result",
     "data": {
      "text/plain": [
       "['House+of+Cards',\n",
       " 'Hemlock+Grove',\n",
       " 'Orange+Is+the+New+Black',\n",
       " 'Marco+Polo',\n",
       " 'Bloodline']"
      ]
     },
     "metadata": {},
     "execution_count": 156
    }
   ],
   "source": [
    "title_path = []\n",
    "for i in title:\n",
    "    split_title = i.split()\n",
    "    sum_title = \"+\".join(split_title)\n",
    "    title_path.append(sum_title)\n",
    "title_path[:5]"
   ]
  },
  {
   "cell_type": "code",
   "execution_count": 157,
   "metadata": {},
   "outputs": [
    {
     "output_type": "stream",
     "name": "stdout",
     "text": [
      "['https://www.imdb.com/find?q=House+of+Cards&ref_=nv_sr_sm', 'https://www.imdb.com/find?q=Hemlock+Grove&ref_=nv_sr_sm', 'https://www.imdb.com/find?q=Orange+Is+the+New+Black&ref_=nv_sr_sm', 'https://www.imdb.com/find?q=Marco+Polo&ref_=nv_sr_sm', 'https://www.imdb.com/find?q=Bloodline&ref_=nv_sr_sm']\n"
     ]
    }
   ],
   "source": [
    "url_list = []\n",
    "for i in title_path:\n",
    "    url = \"https://www.imdb.com/find?q=\" + str(i) + \"&ref_=nv_sr_sm\"\n",
    "    url_list.append(url)\n",
    "print(url_list[:5])"
   ]
  },
  {
   "cell_type": "code",
   "execution_count": 158,
   "metadata": {},
   "outputs": [],
   "source": [
    "options = webdriver.ChromeOptions() # 크롬 옵션기능을 options로\n",
    "options.headless = True # webdriver.ChromeOptions.headless = True (크롬 백그라운드)\n",
    "options.add_argument('window-size=1920x1080')\n",
    "\n",
    "driver = webdriver.Chrome(r'C:\\Users\\KJH\\OneDrive - 인하대학교\\0 정리\\1 깃허브 업로드\\Netflix_rate_analysis\\Netflix_original\\1_web_scraping_imdb_rate\\chromedriver\\chromedriver.exe', options=options)"
   ]
  },
  {
   "cell_type": "markdown",
   "metadata": {},
   "source": [
    "# 이거 page에 url_list 값을 바꾸고 실행하면 됨\n",
    "# ex) url_list[5:15]  = 넷플릭스 데이터에 있는 6~15번째의 데이터들이 나옴 \n",
    "# 크롬창이 계속 나올것이니 끝날때까지 기다려야함.."
   ]
  },
  {
   "cell_type": "code",
   "execution_count": 159,
   "metadata": {},
   "outputs": [
    {
     "output_type": "execute_result",
     "data": {
      "text/plain": [
       "[('4.8', '2,829', ' Chester Tam', 'Josh Peck, Tony Revolori, Kevin Corrigan '),\n",
       " ('6.0',\n",
       "  '20,785',\n",
       "  ' Adam Randall',\n",
       "  'Bill Milner, Maisie Williams, Miranda Richardson '),\n",
       " ('6.7', '4,090', ' Malik Vitthal', 'John Boyega, Rotimi, Glenn Plummer '),\n",
       " ('5.2',\n",
       "  '3,486',\n",
       "  ' Michael Paul Stephenson (as Michael Stephenson)',\n",
       "  'Bob Odenkirk, Amber Tamblyn, Stacy Keach '),\n",
       " ('6.9',\n",
       "  '49,880',\n",
       "  ' Macon Blair',\n",
       "  'Melanie Lynskey, Chris Doubek, Marilyn Faith Hickey ')]"
      ]
     },
     "metadata": {},
     "execution_count": 159
    }
   ],
   "source": [
    "page = url_list[192:392]    #값 바꿀것\n",
    "new_data = []\n",
    "j = 0\n",
    "\n",
    "for i in page:\n",
    "    driver.implicitly_wait(1)\n",
    "    driver.get(i)\n",
    "    driver.implicitly_wait(1)\n",
    "    NextPage()\n",
    "    datalist = get_rating(\"ratingValue\"),get_voters(\"small\"),get_creator(\"credit_summary_item\"),get_stars(\"credit_summary_item\")\n",
    "    new_data.append(datalist)\n",
    "    driver.get_screenshot_as_file(str(j) + '_screen.png')\n",
    "    j += 1\n",
    "new_data[:5]"
   ]
  },
  {
   "cell_type": "code",
   "execution_count": 160,
   "metadata": {},
   "outputs": [
    {
     "output_type": "execute_result",
     "data": {
      "text/plain": [
       "    ratings   voters                                          director  \\\n",
       "0       4.8    2,829                                       Chester Tam   \n",
       "1       6.0   20,785                                      Adam Randall   \n",
       "2       6.7    4,090                                     Malik Vitthal   \n",
       "3       5.2    3,486   Michael Paul Stephenson (as Michael Stephenson)   \n",
       "4       6.9   49,880                                       Macon Blair   \n",
       "..      ...      ...                                               ...   \n",
       "195     6.9  349,072                Chuck Russell (as Charles Russell)   \n",
       "196     5.9    7,244                                 Patrice Laliberté   \n",
       "197     6.2    4,361                                    Prentice Penny   \n",
       "198     6.2      107                                 Cristiano Bortone   \n",
       "199     4.8    1,861                                         Jay Karas   \n",
       "\n",
       "                                                actors  \n",
       "0            Josh Peck, Tony Revolori, Kevin Corrigan   \n",
       "1    Bill Milner, Maisie Williams, Miranda Richardson   \n",
       "2                  John Boyega, Rotimi, Glenn Plummer   \n",
       "3            Bob Odenkirk, Amber Tamblyn, Stacy Keach   \n",
       "4    Melanie Lynskey, Chris Doubek, Marilyn Faith H...  \n",
       "..                                                 ...  \n",
       "195           Jim Carrey, Cameron Diaz, Peter Riegert   \n",
       "196  Guillaume Laurin, Marie-Evelyne Lessard, Réal ...  \n",
       "197  Courtney B. Vance, Lashun Pollard, Michael Mob...  \n",
       "198       Dario Aita, Hichem Yacoubi, Miriam Dalmazio   \n",
       "199             Seth Carr, Tichina Arnold, Adam Pally   \n",
       "\n",
       "[200 rows x 4 columns]"
      ],
      "text/html": "<div>\n<style scoped>\n    .dataframe tbody tr th:only-of-type {\n        vertical-align: middle;\n    }\n\n    .dataframe tbody tr th {\n        vertical-align: top;\n    }\n\n    .dataframe thead th {\n        text-align: right;\n    }\n</style>\n<table border=\"1\" class=\"dataframe\">\n  <thead>\n    <tr style=\"text-align: right;\">\n      <th></th>\n      <th>ratings</th>\n      <th>voters</th>\n      <th>director</th>\n      <th>actors</th>\n    </tr>\n  </thead>\n  <tbody>\n    <tr>\n      <th>0</th>\n      <td>4.8</td>\n      <td>2,829</td>\n      <td>Chester Tam</td>\n      <td>Josh Peck, Tony Revolori, Kevin Corrigan</td>\n    </tr>\n    <tr>\n      <th>1</th>\n      <td>6.0</td>\n      <td>20,785</td>\n      <td>Adam Randall</td>\n      <td>Bill Milner, Maisie Williams, Miranda Richardson</td>\n    </tr>\n    <tr>\n      <th>2</th>\n      <td>6.7</td>\n      <td>4,090</td>\n      <td>Malik Vitthal</td>\n      <td>John Boyega, Rotimi, Glenn Plummer</td>\n    </tr>\n    <tr>\n      <th>3</th>\n      <td>5.2</td>\n      <td>3,486</td>\n      <td>Michael Paul Stephenson (as Michael Stephenson)</td>\n      <td>Bob Odenkirk, Amber Tamblyn, Stacy Keach</td>\n    </tr>\n    <tr>\n      <th>4</th>\n      <td>6.9</td>\n      <td>49,880</td>\n      <td>Macon Blair</td>\n      <td>Melanie Lynskey, Chris Doubek, Marilyn Faith H...</td>\n    </tr>\n    <tr>\n      <th>...</th>\n      <td>...</td>\n      <td>...</td>\n      <td>...</td>\n      <td>...</td>\n    </tr>\n    <tr>\n      <th>195</th>\n      <td>6.9</td>\n      <td>349,072</td>\n      <td>Chuck Russell (as Charles Russell)</td>\n      <td>Jim Carrey, Cameron Diaz, Peter Riegert</td>\n    </tr>\n    <tr>\n      <th>196</th>\n      <td>5.9</td>\n      <td>7,244</td>\n      <td>Patrice Laliberté</td>\n      <td>Guillaume Laurin, Marie-Evelyne Lessard, Réal ...</td>\n    </tr>\n    <tr>\n      <th>197</th>\n      <td>6.2</td>\n      <td>4,361</td>\n      <td>Prentice Penny</td>\n      <td>Courtney B. Vance, Lashun Pollard, Michael Mob...</td>\n    </tr>\n    <tr>\n      <th>198</th>\n      <td>6.2</td>\n      <td>107</td>\n      <td>Cristiano Bortone</td>\n      <td>Dario Aita, Hichem Yacoubi, Miriam Dalmazio</td>\n    </tr>\n    <tr>\n      <th>199</th>\n      <td>4.8</td>\n      <td>1,861</td>\n      <td>Jay Karas</td>\n      <td>Seth Carr, Tichina Arnold, Adam Pally</td>\n    </tr>\n  </tbody>\n</table>\n<p>200 rows × 4 columns</p>\n</div>"
     },
     "metadata": {},
     "execution_count": 160
    }
   ],
   "source": [
    "page = url_list[192:392]  \n",
    "ratings = [new_data[i][0] for i in range(len(page))]\n",
    "voters = [new_data[i][1] for i in range(len(page))]\n",
    "director = [new_data[i][2] for i in range(len(page))]\n",
    "actors = [new_data[i][3] for i in range(len(page))]\n",
    "\n",
    "my_dict = {\"ratings\": ratings, \"voters\": voters, \"director\": director, \"actors\": actors}\n",
    "total_data = pd.DataFrame(my_dict)\n",
    "total_data"
   ]
  },
  {
   "cell_type": "code",
   "execution_count": 161,
   "metadata": {},
   "outputs": [],
   "source": [
    "csv_name = 'netflix_original_dataset 192~392.csv'\n",
    "total_data.to_csv(csv_name, encoding='utf-8-sig')"
   ]
  },
  {
   "cell_type": "code",
   "execution_count": null,
   "metadata": {},
   "outputs": [],
   "source": []
  }
 ],
 "metadata": {
  "kernelspec": {
   "display_name": "Python 3",
   "language": "python",
   "name": "python3"
  },
  "language_info": {
   "codemirror_mode": {
    "name": "ipython",
    "version": 3
   },
   "file_extension": ".py",
   "mimetype": "text/x-python",
   "name": "python",
   "nbconvert_exporter": "python",
   "pygments_lexer": "ipython3",
   "version": "3.9.2-final"
  }
 },
 "nbformat": 4,
 "nbformat_minor": 4
}